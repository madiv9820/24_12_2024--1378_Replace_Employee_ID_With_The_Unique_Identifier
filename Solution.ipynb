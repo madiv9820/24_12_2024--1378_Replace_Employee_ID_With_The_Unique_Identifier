{
 "cells": [
  {
   "cell_type": "code",
   "execution_count": 1,
   "id": "6fcd797f",
   "metadata": {},
   "outputs": [
    {
     "name": "stderr",
     "output_type": "stream",
     "text": [
      "24/12/24 15:21:41 WARN Utils: Your hostname, madiv resolves to a loopback address: 127.0.1.1; using 192.168.1.11 instead (on interface wlo1)\n",
      "24/12/24 15:21:42 WARN Utils: Set SPARK_LOCAL_IP if you need to bind to another address\n",
      "Setting default log level to \"WARN\".\n",
      "To adjust logging level use sc.setLogLevel(newLevel). For SparkR, use setLogLevel(newLevel).\n",
      "24/12/24 15:21:50 WARN NativeCodeLoader: Unable to load native-hadoop library for your platform... using builtin-java classes where applicable\n",
      "24/12/24 15:22:04 WARN Utils: Service 'SparkUI' could not bind on port 4040. Attempting port 4041.\n"
     ]
    }
   ],
   "source": [
    "import pyspark\n",
    "from pyspark.sql import SparkSession\n",
    "import pandas as pd\n",
    "\n",
    "spark = SparkSession.builder.appName('LeetCode').getOrCreate()"
   ]
  },
  {
   "cell_type": "code",
   "execution_count": 4,
   "id": "b531c057",
   "metadata": {},
   "outputs": [
    {
     "name": "stderr",
     "output_type": "stream",
     "text": [
      "\r",
      "[Stage 10:>                                                         (0 + 1) / 1]\r",
      "\r",
      "                                                                                \r"
     ]
    },
    {
     "name": "stdout",
     "output_type": "stream",
     "text": [
      "+---+--------+\n",
      "| id|    name|\n",
      "+---+--------+\n",
      "|  1|   Alice|\n",
      "|  7|     Bob|\n",
      "| 11|    Meir|\n",
      "| 90| Winston|\n",
      "|  3|Jonathan|\n",
      "+---+--------+\n",
      "\n",
      "+---+---------+\n",
      "| id|unique_id|\n",
      "+---+---------+\n",
      "|  3|        1|\n",
      "| 11|        2|\n",
      "| 90|        3|\n",
      "+---+---------+\n",
      "\n",
      "   id      name\n",
      "0   1     Alice\n",
      "1   7       Bob\n",
      "2  11      Meir\n",
      "3  90   Winston\n",
      "4   3  Jonathan\n",
      "   id  unique_id\n",
      "0   3          1\n",
      "1  11          2\n",
      "2  90          3\n"
     ]
    }
   ],
   "source": [
    "employees_Spark = spark.read.option('header', True).option('delimiter', ',').csv('Employees.csv')\n",
    "employeeUNI_Spark = spark.read.option('header', True).option('delimiter', ',').csv('EmployeeUNI.csv')\n",
    "\n",
    "employees_Pandas = pd.read_csv('Employees.csv')\n",
    "employeeUNI_Pandas = pd.read_csv('EmployeeUNI.csv')\n",
    "\n",
    "employees_Spark.show()\n",
    "employeeUNI_Spark.show()\n",
    "\n",
    "print(employees_Pandas.head())\n",
    "print(employeeUNI_Pandas.head())"
   ]
  },
  {
   "cell_type": "code",
   "execution_count": 9,
   "id": "8f385588",
   "metadata": {},
   "outputs": [
    {
     "name": "stdout",
     "output_type": "stream",
     "text": [
      "+---------+--------+\n",
      "|unique_id|    name|\n",
      "+---------+--------+\n",
      "|     null|   Alice|\n",
      "|     null|     Bob|\n",
      "|        2|    Meir|\n",
      "|        3| Winston|\n",
      "|        1|Jonathan|\n",
      "+---------+--------+\n",
      "\n"
     ]
    }
   ],
   "source": [
    "def replace_employee_id(employees: pyspark.sql.dataframe.DataFrame, \n",
    "                        employee_uni: pyspark.sql.dataframe.DataFrame) \\\n",
    "            -> pyspark.sql.dataframe.DataFrame:\n",
    "    employees.createOrReplaceTempView('Employees')\n",
    "    employee_uni.createOrReplaceTempView('EmployeeUNI')\n",
    "    \n",
    "    sqlQuery = \\\n",
    "    '''\n",
    "    SELECT e2.unique_id, e1.name FROM\n",
    "    Employees e1 LEFT JOIN EmployeeUNI e2\n",
    "    ON e1.id = e2.id\n",
    "    '''\n",
    "    \n",
    "    output = spark.sql(sqlQuery = sqlQuery)\n",
    "    return output\n",
    "\n",
    "output = replace_employee_id(employees_Spark, employeeUNI_Spark)\n",
    "output.show()"
   ]
  },
  {
   "cell_type": "code",
   "execution_count": 13,
   "id": "34c9ad7c",
   "metadata": {},
   "outputs": [
    {
     "name": "stdout",
     "output_type": "stream",
     "text": [
      "+---------+--------+\n",
      "|unique_id|    name|\n",
      "+---------+--------+\n",
      "|     null|   Alice|\n",
      "|     null|     Bob|\n",
      "|        2|    Meir|\n",
      "|        3| Winston|\n",
      "|        1|Jonathan|\n",
      "+---------+--------+\n",
      "\n"
     ]
    }
   ],
   "source": [
    "def replace_employee_id(employees: pyspark.sql.dataframe.DataFrame, \n",
    "                        employee_uni: pyspark.sql.dataframe.DataFrame) \\\n",
    "            -> pyspark.sql.dataframe.DataFrame:\n",
    "    output = employees.join(employee_uni, on = 'id', how = 'left')\\\n",
    "                        .select(['unique_id', 'name'])\n",
    "    return output\n",
    "\n",
    "output = replace_employee_id(employees_Spark, employeeUNI_Spark)\n",
    "output.show()"
   ]
  },
  {
   "cell_type": "code",
   "execution_count": 16,
   "id": "e8bd1b31",
   "metadata": {},
   "outputs": [
    {
     "data": {
      "text/html": [
       "<div>\n",
       "<style scoped>\n",
       "    .dataframe tbody tr th:only-of-type {\n",
       "        vertical-align: middle;\n",
       "    }\n",
       "\n",
       "    .dataframe tbody tr th {\n",
       "        vertical-align: top;\n",
       "    }\n",
       "\n",
       "    .dataframe thead th {\n",
       "        text-align: right;\n",
       "    }\n",
       "</style>\n",
       "<table border=\"1\" class=\"dataframe\">\n",
       "  <thead>\n",
       "    <tr style=\"text-align: right;\">\n",
       "      <th></th>\n",
       "      <th>unique_id</th>\n",
       "      <th>name</th>\n",
       "    </tr>\n",
       "  </thead>\n",
       "  <tbody>\n",
       "    <tr>\n",
       "      <th>0</th>\n",
       "      <td>NaN</td>\n",
       "      <td>Alice</td>\n",
       "    </tr>\n",
       "    <tr>\n",
       "      <th>1</th>\n",
       "      <td>NaN</td>\n",
       "      <td>Bob</td>\n",
       "    </tr>\n",
       "    <tr>\n",
       "      <th>2</th>\n",
       "      <td>2.0</td>\n",
       "      <td>Meir</td>\n",
       "    </tr>\n",
       "    <tr>\n",
       "      <th>3</th>\n",
       "      <td>3.0</td>\n",
       "      <td>Winston</td>\n",
       "    </tr>\n",
       "    <tr>\n",
       "      <th>4</th>\n",
       "      <td>1.0</td>\n",
       "      <td>Jonathan</td>\n",
       "    </tr>\n",
       "  </tbody>\n",
       "</table>\n",
       "</div>"
      ],
      "text/plain": [
       "   unique_id      name\n",
       "0        NaN     Alice\n",
       "1        NaN       Bob\n",
       "2        2.0      Meir\n",
       "3        3.0   Winston\n",
       "4        1.0  Jonathan"
      ]
     },
     "execution_count": 16,
     "metadata": {},
     "output_type": "execute_result"
    }
   ],
   "source": [
    "def replace_employee_id(employees: pd.DataFrame, \n",
    "                        employee_uni: pd.DataFrame) -> pd.DataFrame:\n",
    "    output = employees.merge(employee_uni, on = 'id', how = 'left')\n",
    "    output = output[['unique_id', 'name']]\n",
    "    return output\n",
    "\n",
    "output = replace_employee_id(employees_Pandas, employeeUNI_Pandas)\n",
    "output.head()"
   ]
  }
 ],
 "metadata": {
  "kernelspec": {
   "display_name": "Python 3 (ipykernel)",
   "language": "python",
   "name": "python3"
  },
  "language_info": {
   "codemirror_mode": {
    "name": "ipython",
    "version": 3
   },
   "file_extension": ".py",
   "mimetype": "text/x-python",
   "name": "python",
   "nbconvert_exporter": "python",
   "pygments_lexer": "ipython3",
   "version": "3.11.5"
  }
 },
 "nbformat": 4,
 "nbformat_minor": 5
}
